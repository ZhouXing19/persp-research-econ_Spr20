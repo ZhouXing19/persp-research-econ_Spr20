{
 "cells": [
  {
   "cell_type": "markdown",
   "metadata": {},
   "source": [
    "# Get list of Bloomberg news url from google news"
   ]
  },
  {
   "cell_type": "code",
   "execution_count": 24,
   "metadata": {},
   "outputs": [],
   "source": [
    "import urllib.request\n",
    "import re\n",
    "import os\n",
    "import zipfile\n",
    "import pandas as pd\n",
    "import requests\n",
    "from selenium import webdriver\n",
    "from webdriver_manager.chrome import ChromeDriverManager"
   ]
  },
  {
   "cell_type": "markdown",
   "metadata": {},
   "source": [
    "### Read title, description, url of each news report from html"
   ]
  },
  {
   "cell_type": "code",
   "execution_count": 37,
   "metadata": {},
   "outputs": [],
   "source": [
    "months_2020 = ['Jan','Feb','Mar','Apr','May']\n",
    "months_2019 = ['Sept','Oct','Nov','Dec']\n",
    "\n",
    "title_regex = 'role=\"heading\" style=\"-webkit-line-clamp:2\">(.+)<\\/div>'\n",
    "url_regex = 'href=\"(https:\\/\\/www\\.bloomberg\\.com\\/.+)\" data-ved'\n",
    "des_regex = '<div class=\"Y3v8qd\">([^\\<]+)<\\/div>'\n",
    "\n"
   ]
  },
  {
   "cell_type": "markdown",
   "metadata": {},
   "source": [
    "### News in 2019 are labeled as \"unrelated\" (0), and those in 2020 are labeld as \"related\" (1)"
   ]
  },
  {
   "cell_type": "code",
   "execution_count": null,
   "metadata": {},
   "outputs": [],
   "source": [
    "\n",
    "for month in months_2019:\n",
    "    for i in [1,2]:\n",
    "        htmlfile = \"./googlesearch/{}2019_{}.txt\".format(month,i)\n",
    "        records = \"./googlesearch/news/2019/{}2019_{}.txt\".format(month,i)\n",
    "        url_records = \"./googlesearch/urls/2019/{}2019_{}.md\".format(month,i)\n",
    "        \n",
    "        f1 = open(htmlfile, \"r\")\n",
    "        txt = f1.read()\n",
    "        \n",
    "        title = re.findall(title_regex,txt)\n",
    "        des = re.findall(des_regex,txt)\n",
    "        url = re.findall(url_regex,txt)\n",
    "        f1.close()\n",
    "        \n",
    "        if os.path.exists(records):\n",
    "            os.remove(records)\n",
    "        if os.path.exists(url_records):\n",
    "            os.remove(url_records)\n",
    "            \n",
    "        f2 = open(records,\"a+\")\n",
    "        f3 = open(url_records,\"a\")\n",
    "        \n",
    "        for idx,(t,d,u) in enumerate(zip(title,des,url)):\n",
    "            date = u.split('/')[-2]\n",
    "            f2.write(\"{};{};{};{}\\n\".format(date,t,d,u))\n",
    "            f3.write(\"{}: \\t [{}]({}) \\n\\n\".format(idx,t,u))"
   ]
  },
  {
   "cell_type": "code",
   "execution_count": 39,
   "metadata": {},
   "outputs": [],
   "source": [
    "months_2020 = ['Jan','Feb','Mar','Apr','May']\n",
    "for month in months_2020:\n",
    "    for i in [1,2]:\n",
    "        htmlfile = \"./googlesearch/{}2020_{}.txt\".format(month,i)\n",
    "        records = \"./googlesearch/news/2020/{}2020_{}.txt\".format(month,i)\n",
    "        url_records = \"./googlesearch/urls/2020/{}2020_{}.md\".format(month,i)\n",
    "        \n",
    "        f1 = open(htmlfile, \"r\")\n",
    "        txt = f1.read()\n",
    "        \n",
    "        title = re.findall(title_regex,txt)\n",
    "        des = re.findall(des_regex,txt)\n",
    "        url = re.findall(url_regex,txt)\n",
    "        f1.close()\n",
    "        \n",
    "        if os.path.exists(records):\n",
    "            os.remove(records)\n",
    "        if os.path.exists(url_records):\n",
    "            os.remove(url_records)\n",
    "            \n",
    "        f2 = open(records,\"a+\")\n",
    "        f3 = open(url_records,\"a\")\n",
    "        \n",
    "        for idx,(t,d,u) in enumerate(zip(title,des,url)):\n",
    "            date = u.split('/')[-2]\n",
    "            f2.write(\"{};{};{};{}\\n\".format(date,t,d,u))\n",
    "            f3.write(\"{}: \\t [{}]({}) \\n\\n\".format(idx,t,u))"
   ]
  }
 ],
 "metadata": {
  "kernelspec": {
   "display_name": "Python 3",
   "language": "python",
   "name": "python3"
  },
  "language_info": {
   "codemirror_mode": {
    "name": "ipython",
    "version": 3
   },
   "file_extension": ".py",
   "mimetype": "text/x-python",
   "name": "python",
   "nbconvert_exporter": "python",
   "pygments_lexer": "ipython3",
   "version": "3.7.3"
  }
 },
 "nbformat": 4,
 "nbformat_minor": 2
}
