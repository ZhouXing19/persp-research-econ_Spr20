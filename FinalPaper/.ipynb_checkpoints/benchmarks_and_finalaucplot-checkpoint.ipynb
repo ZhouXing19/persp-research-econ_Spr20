{
 "cells": [
  {
   "cell_type": "markdown",
   "metadata": {
    "colab_type": "text",
    "id": "DyC0bkPju0yH"
   },
   "source": [
    "# Benchmarks"
   ]
  },
  {
   "cell_type": "markdown",
   "metadata": {
    "colab_type": "text",
    "id": "UMdiVBt7iZvT"
   },
   "source": [
    "## Bidirectional Neural Network"
   ]
  },
  {
   "cell_type": "code",
   "execution_count": null,
   "metadata": {
    "colab": {},
    "colab_type": "code",
    "id": "VK6Np07hx-UO"
   },
   "outputs": [],
   "source": [
    "# Keras\n",
    "from keras.preprocessing.text import Tokenizer\n",
    "from keras.preprocessing.sequence import pad_sequences\n",
    "from keras.models import Sequential\n",
    "from keras.layers import Dense, Flatten, LSTM, Conv1D, MaxPooling1D, Dropout, Activation, Bidirectional\n",
    "from keras.layers.embeddings import Embedding"
   ]
  },
  {
   "cell_type": "code",
   "execution_count": null,
   "metadata": {
    "colab": {},
    "colab_type": "code",
    "id": "DJisLrLYicWM"
   },
   "outputs": [],
   "source": [
    "vocabulary_size = 500\n",
    "tokenizer = Tokenizer(num_words= vocabulary_size)\n",
    "tokenizer.fit_on_texts(train_df['text'])\n",
    "sequences = tokenizer.texts_to_sequences(train_df['text'])\n",
    "data = pad_sequences(sequences, maxlen=200)"
   ]
  },
  {
   "cell_type": "code",
   "execution_count": null,
   "metadata": {
    "colab": {},
    "colab_type": "code",
    "id": "Nh5q6al4igJp"
   },
   "outputs": [],
   "source": [
    "sequences2=tokenizer.texts_to_sequences(eval_df['text'])\n",
    "eval_data = pad_sequences(sequences2, maxlen=200)"
   ]
  },
  {
   "cell_type": "code",
   "execution_count": null,
   "metadata": {
    "colab": {},
    "colab_type": "code",
    "id": "eKbdU2h_ijOL"
   },
   "outputs": [],
   "source": [
    "test_sequences= tokenizer.texts_to_sequences(test_df['text'])\n",
    "test_data_LSTM = pad_sequences(test_sequences, maxlen=200)"
   ]
  },
  {
   "cell_type": "code",
   "execution_count": null,
   "metadata": {
    "colab": {
     "base_uri": "https://localhost:8080/",
     "height": 267
    },
    "colab_type": "code",
    "id": "P21fiHH6imvL",
    "outputId": "32687e77-efa3-46ee-dfe9-c1363a3110fb"
   },
   "outputs": [
    {
     "name": "stdout",
     "output_type": "stream",
     "text": [
      "WARNING:tensorflow:From /usr/local/lib/python3.6/dist-packages/keras/backend/tensorflow_backend.py:66: The name tf.get_default_graph is deprecated. Please use tf.compat.v1.get_default_graph instead.\n",
      "\n",
      "WARNING:tensorflow:From /usr/local/lib/python3.6/dist-packages/keras/backend/tensorflow_backend.py:541: The name tf.placeholder is deprecated. Please use tf.compat.v1.placeholder instead.\n",
      "\n",
      "WARNING:tensorflow:From /usr/local/lib/python3.6/dist-packages/keras/backend/tensorflow_backend.py:4432: The name tf.random_uniform is deprecated. Please use tf.random.uniform instead.\n",
      "\n",
      "WARNING:tensorflow:From /usr/local/lib/python3.6/dist-packages/keras/optimizers.py:793: The name tf.train.Optimizer is deprecated. Please use tf.compat.v1.train.Optimizer instead.\n",
      "\n",
      "WARNING:tensorflow:From /usr/local/lib/python3.6/dist-packages/keras/backend/tensorflow_backend.py:3657: The name tf.log is deprecated. Please use tf.math.log instead.\n",
      "\n",
      "WARNING:tensorflow:From /usr/local/lib/python3.6/dist-packages/tensorflow_core/python/ops/nn_impl.py:183: where (from tensorflow.python.ops.array_ops) is deprecated and will be removed in a future version.\n",
      "Instructions for updating:\n",
      "Use tf.where in 2.0, which has the same broadcast rule as np.where\n"
     ]
    }
   ],
   "source": [
    "## Network architecture\n",
    "model = Sequential()\n",
    "model.add(Embedding(5000, 128, input_length=200))\n",
    "model.add(Bidirectional(LSTM(16)))\n",
    "model.add(Dense(1, activation='sigmoid'))\n",
    "model.compile(loss='binary_crossentropy', optimizer='adam', metrics=['accuracy'])"
   ]
  },
  {
   "cell_type": "code",
   "execution_count": null,
   "metadata": {
    "colab": {
     "base_uri": "https://localhost:8080/",
     "height": 498
    },
    "colab_type": "code",
    "id": "URrY-LRFipGy",
    "outputId": "88b6355e-37ca-4152-8d62-aa4c1d7321e8"
   },
   "outputs": [
    {
     "name": "stdout",
     "output_type": "stream",
     "text": [
      "WARNING:tensorflow:From /usr/local/lib/python3.6/dist-packages/keras/backend/tensorflow_backend.py:1033: The name tf.assign_add is deprecated. Please use tf.compat.v1.assign_add instead.\n",
      "\n",
      "WARNING:tensorflow:From /usr/local/lib/python3.6/dist-packages/keras/backend/tensorflow_backend.py:1020: The name tf.assign is deprecated. Please use tf.compat.v1.assign instead.\n",
      "\n",
      "WARNING:tensorflow:From /usr/local/lib/python3.6/dist-packages/keras/backend/tensorflow_backend.py:3005: The name tf.Session is deprecated. Please use tf.compat.v1.Session instead.\n",
      "\n",
      "Train on 10189 samples, validate on 537 samples\n",
      "Epoch 1/4\n",
      "WARNING:tensorflow:From /usr/local/lib/python3.6/dist-packages/keras/backend/tensorflow_backend.py:190: The name tf.get_default_session is deprecated. Please use tf.compat.v1.get_default_session instead.\n",
      "\n",
      "WARNING:tensorflow:From /usr/local/lib/python3.6/dist-packages/keras/backend/tensorflow_backend.py:197: The name tf.ConfigProto is deprecated. Please use tf.compat.v1.ConfigProto instead.\n",
      "\n",
      "WARNING:tensorflow:From /usr/local/lib/python3.6/dist-packages/keras/backend/tensorflow_backend.py:207: The name tf.global_variables is deprecated. Please use tf.compat.v1.global_variables instead.\n",
      "\n",
      "WARNING:tensorflow:From /usr/local/lib/python3.6/dist-packages/keras/backend/tensorflow_backend.py:216: The name tf.is_variable_initialized is deprecated. Please use tf.compat.v1.is_variable_initialized instead.\n",
      "\n",
      "WARNING:tensorflow:From /usr/local/lib/python3.6/dist-packages/keras/backend/tensorflow_backend.py:223: The name tf.variables_initializer is deprecated. Please use tf.compat.v1.variables_initializer instead.\n",
      "\n",
      "10189/10189 [==============================] - 64s 6ms/step - loss: 0.5060 - acc: 0.7862 - val_loss: 0.4311 - val_acc: 0.7970\n",
      "Epoch 2/4\n",
      "10189/10189 [==============================] - 56s 5ms/step - loss: 0.4013 - acc: 0.8181 - val_loss: 0.3735 - val_acc: 0.8399\n",
      "Epoch 3/4\n",
      "10189/10189 [==============================] - 56s 6ms/step - loss: 0.3761 - acc: 0.8308 - val_loss: 0.3739 - val_acc: 0.8305\n",
      "Epoch 4/4\n",
      "10189/10189 [==============================] - 56s 5ms/step - loss: 0.3587 - acc: 0.8387 - val_loss: 0.3783 - val_acc: 0.8324\n"
     ]
    },
    {
     "data": {
      "text/plain": [
       "<keras.callbacks.History at 0x7f277c8d2278>"
      ]
     },
     "execution_count": 66,
     "metadata": {
      "tags": []
     },
     "output_type": "execute_result"
    }
   ],
   "source": [
    "model.fit(data, train_df['label'], validation_data=(eval_data, eval_df['label']), epochs=4, batch_size=128)"
   ]
  },
  {
   "cell_type": "code",
   "execution_count": null,
   "metadata": {
    "colab": {},
    "colab_type": "code",
    "id": "3YmJAPtkirW9"
   },
   "outputs": [],
   "source": [
    "## Fit the model\n",
    "LSTM_Output = pd.DataFrame(model.predict_proba(test_data_LSTM))"
   ]
  },
  {
   "cell_type": "code",
   "execution_count": null,
   "metadata": {
    "colab": {
     "base_uri": "https://localhost:8080/",
     "height": 406
    },
    "colab_type": "code",
    "id": "JU2i-KeWi6Ku",
    "outputId": "1439dcdd-609f-4946-d9b4-f0ee5415fd0b"
   },
   "outputs": [
    {
     "data": {
      "text/html": [
       "<div>\n",
       "<style scoped>\n",
       "    .dataframe tbody tr th:only-of-type {\n",
       "        vertical-align: middle;\n",
       "    }\n",
       "\n",
       "    .dataframe tbody tr th {\n",
       "        vertical-align: top;\n",
       "    }\n",
       "\n",
       "    .dataframe thead th {\n",
       "        text-align: right;\n",
       "    }\n",
       "</style>\n",
       "<table border=\"1\" class=\"dataframe\">\n",
       "  <thead>\n",
       "    <tr style=\"text-align: right;\">\n",
       "      <th></th>\n",
       "      <th>0</th>\n",
       "    </tr>\n",
       "  </thead>\n",
       "  <tbody>\n",
       "    <tr>\n",
       "      <th>0</th>\n",
       "      <td>0.046282</td>\n",
       "    </tr>\n",
       "    <tr>\n",
       "      <th>1</th>\n",
       "      <td>0.133560</td>\n",
       "    </tr>\n",
       "    <tr>\n",
       "      <th>2</th>\n",
       "      <td>0.048325</td>\n",
       "    </tr>\n",
       "    <tr>\n",
       "      <th>3</th>\n",
       "      <td>0.041832</td>\n",
       "    </tr>\n",
       "    <tr>\n",
       "      <th>4</th>\n",
       "      <td>0.293379</td>\n",
       "    </tr>\n",
       "    <tr>\n",
       "      <th>...</th>\n",
       "      <td>...</td>\n",
       "    </tr>\n",
       "    <tr>\n",
       "      <th>4914</th>\n",
       "      <td>0.790924</td>\n",
       "    </tr>\n",
       "    <tr>\n",
       "      <th>4915</th>\n",
       "      <td>0.541131</td>\n",
       "    </tr>\n",
       "    <tr>\n",
       "      <th>4916</th>\n",
       "      <td>0.745887</td>\n",
       "    </tr>\n",
       "    <tr>\n",
       "      <th>4917</th>\n",
       "      <td>0.415286</td>\n",
       "    </tr>\n",
       "    <tr>\n",
       "      <th>4918</th>\n",
       "      <td>0.572059</td>\n",
       "    </tr>\n",
       "  </tbody>\n",
       "</table>\n",
       "<p>4919 rows × 1 columns</p>\n",
       "</div>"
      ],
      "text/plain": [
       "             0\n",
       "0     0.046282\n",
       "1     0.133560\n",
       "2     0.048325\n",
       "3     0.041832\n",
       "4     0.293379\n",
       "...        ...\n",
       "4914  0.790924\n",
       "4915  0.541131\n",
       "4916  0.745887\n",
       "4917  0.415286\n",
       "4918  0.572059\n",
       "\n",
       "[4919 rows x 1 columns]"
      ]
     },
     "execution_count": 69,
     "metadata": {
      "tags": []
     },
     "output_type": "execute_result"
    }
   ],
   "source": [
    "LSTM_Output"
   ]
  },
  {
   "cell_type": "code",
   "execution_count": null,
   "metadata": {
    "colab": {},
    "colab_type": "code",
    "id": "0eqAfeTgjAJE"
   },
   "outputs": [],
   "source": [
    "LSTM_Output.rename({0:'Prob_class_1'}, axis='columns', inplace = True)"
   ]
  },
  {
   "cell_type": "code",
   "execution_count": null,
   "metadata": {
    "colab": {},
    "colab_type": "code",
    "id": "gOysJk2rjCMg"
   },
   "outputs": [],
   "source": [
    "LSTM_Output.to_csv('LSTM_Output.csv')"
   ]
  },
  {
   "cell_type": "code",
   "execution_count": null,
   "metadata": {
    "colab": {},
    "colab_type": "code",
    "id": "MvEt-dPzn8XB"
   },
   "outputs": [],
   "source": [
    "LSTM_Output = pd.read_csv('https://box.hu-berlin.de/f/9736367891bc4a928af7/?dl=1')"
   ]
  },
  {
   "cell_type": "code",
   "execution_count": null,
   "metadata": {
    "colab": {},
    "colab_type": "code",
    "id": "Vrf1gVRSjD_8"
   },
   "outputs": [],
   "source": [
    "Y_labels = model.predict_classes(test_data_LSTM)"
   ]
  },
  {
   "cell_type": "code",
   "execution_count": null,
   "metadata": {
    "colab": {},
    "colab_type": "code",
    "id": "TBHIzJ1DjGci"
   },
   "outputs": [],
   "source": [
    "mcc_score=sklearn.metrics.matthews_corrcoef(test_df['label'],Y_labels)"
   ]
  },
  {
   "cell_type": "code",
   "execution_count": null,
   "metadata": {
    "colab": {
     "base_uri": "https://localhost:8080/",
     "height": 34
    },
    "colab_type": "code",
    "id": "ZL6nUxcMjJ67",
    "outputId": "7cba57be-5610-4151-8a88-5f6a6e2f9c34"
   },
   "outputs": [
    {
     "data": {
      "text/plain": [
       "0.3015412211451819"
      ]
     },
     "execution_count": 74,
     "metadata": {
      "tags": []
     },
     "output_type": "execute_result"
    }
   ],
   "source": [
    "mcc_score"
   ]
  },
  {
   "cell_type": "code",
   "execution_count": null,
   "metadata": {
    "colab": {},
    "colab_type": "code",
    "id": "5hzuJFBFjL3E"
   },
   "outputs": [],
   "source": [
    "fpr_lstm, tpr_lstm, thresholds_lstm = sklearn.metrics.roc_curve(test_df['label'], LSTM_Output['Prob_class_1'])"
   ]
  },
  {
   "cell_type": "code",
   "execution_count": null,
   "metadata": {
    "colab": {},
    "colab_type": "code",
    "id": "p---OVtCodF_"
   },
   "outputs": [],
   "source": [
    "import sklearn"
   ]
  },
  {
   "cell_type": "code",
   "execution_count": null,
   "metadata": {
    "colab": {
     "base_uri": "https://localhost:8080/",
     "height": 34
    },
    "colab_type": "code",
    "id": "uU19oteNjNrR",
    "outputId": "2f66cc64-f498-4ed3-98c7-e12854efac7c"
   },
   "outputs": [
    {
     "data": {
      "text/plain": [
       "0.8541404609423796"
      ]
     },
     "execution_count": 22,
     "metadata": {
      "tags": []
     },
     "output_type": "execute_result"
    }
   ],
   "source": [
    "from sklearn import * \n",
    "metrics.auc(fpr_lstm, tpr_lstm)"
   ]
  },
  {
   "cell_type": "markdown",
   "metadata": {
    "colab_type": "text",
    "id": "T82t0cK1jPhQ"
   },
   "source": [
    "## SVM Encoder"
   ]
  },
  {
   "cell_type": "markdown",
   "metadata": {
    "colab_type": "text",
    "id": "UWUp7FJsqA0T"
   },
   "source": []
  },
  {
   "cell_type": "code",
   "execution_count": null,
   "metadata": {
    "colab": {},
    "colab_type": "code",
    "id": "K0SOAz9OjQ6V"
   },
   "outputs": [],
   "source": [
    "from nltk.tokenize import word_tokenize\n",
    "from nltk import pos_tag\n",
    "from nltk.corpus import stopwords\n",
    "from nltk.stem import WordNetLemmatizer\n",
    "from sklearn.preprocessing import LabelEncoder\n",
    "from collections import defaultdict\n",
    "from nltk.corpus import wordnet as wn\n",
    "from sklearn.feature_extraction.text import TfidfVectorizer\n",
    "from sklearn import model_selection, naive_bayes, svm\n",
    "from sklearn.metrics import accuracy_score"
   ]
  },
  {
   "cell_type": "code",
   "execution_count": null,
   "metadata": {
    "colab": {},
    "colab_type": "code",
    "id": "wnA26jhkokgm"
   },
   "outputs": [],
   "source": [
    "Tfidf_vect = TfidfVectorizer(max_features=200)"
   ]
  },
  {
   "cell_type": "code",
   "execution_count": null,
   "metadata": {
    "colab": {
     "base_uri": "https://localhost:8080/",
     "height": 141
    },
    "colab_type": "code",
    "id": "7cDPqydcoovr",
    "outputId": "23c09182-f97e-4f1e-838f-847399e7693a"
   },
   "outputs": [
    {
     "data": {
      "text/plain": [
       "TfidfVectorizer(analyzer='word', binary=False, decode_error='strict',\n",
       "                dtype=<class 'numpy.float64'>, encoding='utf-8',\n",
       "                input='content', lowercase=True, max_df=1.0, max_features=200,\n",
       "                min_df=1, ngram_range=(1, 1), norm='l2', preprocessor=None,\n",
       "                smooth_idf=True, stop_words=None, strip_accents=None,\n",
       "                sublinear_tf=False, token_pattern='(?u)\\\\b\\\\w\\\\w+\\\\b',\n",
       "                tokenizer=None, use_idf=True, vocabulary=None)"
      ]
     },
     "execution_count": 26,
     "metadata": {
      "tags": []
     },
     "output_type": "execute_result"
    }
   ],
   "source": [
    "Tfidf_vect.fit(train_df['text'])"
   ]
  },
  {
   "cell_type": "code",
   "execution_count": null,
   "metadata": {
    "colab": {},
    "colab_type": "code",
    "id": "bcniUpeOopkT"
   },
   "outputs": [],
   "source": [
    "X_train = train_df['text']\n",
    "X_test = test_df['text']"
   ]
  },
  {
   "cell_type": "code",
   "execution_count": null,
   "metadata": {
    "colab": {},
    "colab_type": "code",
    "id": "heKE4o6boq-r"
   },
   "outputs": [],
   "source": [
    "y_train = train_df['label']\n",
    "y_test = test_df['label']"
   ]
  },
  {
   "cell_type": "code",
   "execution_count": null,
   "metadata": {
    "colab": {},
    "colab_type": "code",
    "id": "UySiXdtTosd3"
   },
   "outputs": [],
   "source": [
    "Train_X_Tfidf = Tfidf_vect.transform(X_train)\n",
    "Test_X_Tfidf = Tfidf_vect.transform(X_test)\n"
   ]
  },
  {
   "cell_type": "code",
   "execution_count": null,
   "metadata": {
    "colab": {},
    "colab_type": "code",
    "id": "cA5qM307ot4K"
   },
   "outputs": [],
   "source": [
    "X_eval = eval_df['text']\n",
    "y_eval = eval_df['text']"
   ]
  },
  {
   "cell_type": "code",
   "execution_count": null,
   "metadata": {
    "colab": {},
    "colab_type": "code",
    "id": "wRJf0ptWovc2"
   },
   "outputs": [],
   "source": [
    "Eval_X_Tfidf = Tfidf_vect.transform(X_eval)"
   ]
  },
  {
   "cell_type": "code",
   "execution_count": null,
   "metadata": {
    "colab": {
     "base_uri": "https://localhost:8080/",
     "height": 54
    },
    "colab_type": "code",
    "id": "b8N84AWgowxb",
    "outputId": "d1fae333-5eba-45a3-d413-003837621c4c"
   },
   "outputs": [
    {
     "name": "stdout",
     "output_type": "stream",
     "text": [
      "{'country': 45, 'free': 66, 'people': 132, 'years': 198, 'also': 9, 'financial': 60, 'students': 162, 'get': 68, 'good': 70, 'like': 97, 'many': 103, 'recent': 142, 'take': 165, 'work': 193, 'jobs': 90, 'support': 163, 'one': 127, 'program': 138, 'federal': 59, 'low': 100, 'interest': 87, 'income': 84, 'still': 161, 'end': 54, 'around': 15, '000': 0, 'rates': 141, 'make': 102, 'new': 118, '30': 5, '2014': 2, 'president': 136, 'obama': 123, '2015': 3, 'time': 173, 'job': 89, 'school': 151, 'know': 91, 'three': 172, 'another': 12, 'year': 197, 'rate': 140, 'percent': 133, 'market': 104, 'community': 38, 'less': 95, 'going': 69, 'based': 19, 'high': 79, 'government': 71, 'cost': 42, 'that': 167, 'right': 146, 'economy': 53, 'leaders': 94, 'world': 195, 'congress': 41, 'com': 36, 'week': 188, 'news': 119, 'five': 62, 'said': 147, 'long': 99, 'tuesday': 177, 'back': 17, '10': 1, 'since': 156, 'next': 120, 'day': 47, 'according': 6, 'ago': 8, 'past': 130, 'last': 92, 'increase': 85, 'chief': 31, 'washington': 185, 'law': 93, 'office': 124, 'workers': 194, 'made': 101, 'deal': 48, 'month': 111, 'even': 55, 'st': 158, 'business': 25, 'district': 52, 'two': 178, 'four': 65, 'may': 105, 'big': 21, 'group': 73, 'pay': 131, 'billion': 23, 'says': 150, 'could': 43, 'tax': 166, 'say': 149, 'there': 169, 'companies': 39, 'are': 13, 'usa': 181, 'university': 180, 'the': 168, 'department': 49, 'white': 191, 'house': 81, 'sales': 148, 'director': 51, 'center': 29, 'well': 189, 'council': 44, 'care': 28, 'family': 57, 'state': 159, 'development': 50, 'health': 77, 'public': 139, 'company': 40, 'national': 115, 'florida': 63, 'including': 83, 'county': 46, 'local': 98, 'united': 179, 'states': 160, '2016': 4, 'services': 155, 'part': 128, 'bank': 18, 'clinton': 35, 'campaign': 27, 'nearly': 116, 'political': 135, 'former': 64, 'would': 196, 'need': 117, 'change': 30, 'think': 171, 'way': 186, 'service': 154, 'whether': 190, 'come': 37, 'use': 182, 'party': 129, 'in': 82, 'every': 56, 'better': 20, 'industry': 86, 'money': 110, 'million': 108, 'without': 192, 'home': 80, 'spending': 157, 'first': 61, 'system': 164, 'vote': 183, 'budget': 24, 'might': 107, 'prices': 137, 'china': 33, 'growth': 74, 'report': 143, 'fed': 58, 'they': 170, 'have': 75, 'number': 122, 'much': 113, 'we': 187, 'among': 10, 'plan': 134, 'nation': 114, 'away': 16, 'it': 88, 'you': 199, 'want': 184, 'help': 78, 'officials': 125, 'he': 76, 'members': 106, 'months': 112, 'told': 174, 'and': 11, 'administration': 7, 'senate': 153, 'republicans': 145, 'bill': 22, 'children': 32, 'life': 96, 'see': 152, 'city': 34, 'called': 26, 'minnesota': 109, 'area': 14, 'georgia': 67, 'trump': 176, 'republican': 144, 'not': 121, 'great': 72, 'old': 126, 'trade': 175}\n"
     ]
    }
   ],
   "source": [
    "print(Tfidf_vect.vocabulary_)"
   ]
  },
  {
   "cell_type": "code",
   "execution_count": null,
   "metadata": {
    "colab": {},
    "colab_type": "code",
    "id": "_gI5T9VDoyCK"
   },
   "outputs": [],
   "source": [
    "# print(Train_X_Tfidf)\n",
    "import sklearn\n",
    "from sklearn import svm\n",
    "from sklearn.metrics import accuracy_score"
   ]
  },
  {
   "cell_type": "code",
   "execution_count": null,
   "metadata": {
    "colab": {},
    "colab_type": "code",
    "id": "VFb6kbTuozui"
   },
   "outputs": [],
   "source": [
    "SVM = svm.SVC(C=1.0, kernel='linear', degree=1, gamma='auto', probability=True)"
   ]
  },
  {
   "cell_type": "code",
   "execution_count": null,
   "metadata": {
    "colab": {
     "base_uri": "https://localhost:8080/",
     "height": 87
    },
    "colab_type": "code",
    "id": "iTs8f9uQo1Fu",
    "outputId": "3cbe7e42-37c5-493e-a97a-c4a56d723f3d"
   },
   "outputs": [
    {
     "data": {
      "text/plain": [
       "SVC(C=1.0, break_ties=False, cache_size=200, class_weight=None, coef0=0.0,\n",
       "    decision_function_shape='ovr', degree=1, gamma='auto', kernel='linear',\n",
       "    max_iter=-1, probability=True, random_state=None, shrinking=True, tol=0.001,\n",
       "    verbose=False)"
      ]
     },
     "execution_count": 35,
     "metadata": {
      "tags": []
     },
     "output_type": "execute_result"
    }
   ],
   "source": [
    "SVM.fit(Train_X_Tfidf,y_train)"
   ]
  },
  {
   "cell_type": "code",
   "execution_count": null,
   "metadata": {
    "colab": {},
    "colab_type": "code",
    "id": "5Z4_0OGZo2RS"
   },
   "outputs": [],
   "source": [
    "#predict the labels on the Test dataset\n",
    "predictions_SVM = SVM.predict_proba(Test_X_Tfidf)"
   ]
  },
  {
   "cell_type": "code",
   "execution_count": null,
   "metadata": {
    "colab": {},
    "colab_type": "code",
    "id": "gt4guQaApOT6"
   },
   "outputs": [],
   "source": [
    "SVM_Output = pd.DataFrame([i[1] for i in predictions_SVM])\n",
    "SVM_Output.rename({0:'Prob_class_1'}, axis='columns', inplace = True)"
   ]
  },
  {
   "cell_type": "code",
   "execution_count": null,
   "metadata": {
    "colab": {},
    "colab_type": "code",
    "id": "1xQIHNBtpP15"
   },
   "outputs": [],
   "source": [
    "SVM_Output.to_csv('SVM_Output.csv')"
   ]
  },
  {
   "cell_type": "code",
   "execution_count": null,
   "metadata": {
    "colab": {},
    "colab_type": "code",
    "id": "ARVj8sfrpTP1"
   },
   "outputs": [],
   "source": [
    "#Will have to set a cut off for SVM and then figure out F1 score and stuff for this!\n",
    "fpr_svm, tpr_svm, thresholds_svm = sklearn.metrics.roc_curve(test_df['label'], SVM_Output['Prob_class_1'])"
   ]
  },
  {
   "cell_type": "code",
   "execution_count": null,
   "metadata": {
    "colab": {
     "base_uri": "https://localhost:8080/",
     "height": 34
    },
    "colab_type": "code",
    "id": "aljCsvMSpysg",
    "outputId": "966cc322-4090-4080-dddd-0b4dceaa8b1f"
   },
   "outputs": [
    {
     "data": {
      "text/plain": [
       "0.856143839632276"
      ]
     },
     "execution_count": 43,
     "metadata": {
      "tags": []
     },
     "output_type": "execute_result"
    }
   ],
   "source": [
    "metrics.auc(fpr_svm, tpr_svm)"
   ]
  },
  {
   "cell_type": "markdown",
   "metadata": {
    "colab_type": "text",
    "id": "PU0G5v6oqC0v"
   },
   "source": [
    "# Comparison of outputs from BERT-Family models and the benchmarks\n",
    "\n"
   ]
  },
  {
   "cell_type": "code",
   "execution_count": null,
   "metadata": {
    "colab": {},
    "colab_type": "code",
    "id": "BuMpnHhvqESA"
   },
   "outputs": [],
   "source": [
    "#Taking all the outputs previously saved from models\n",
    "db_Output_test = pd.read_csv('https://box.hu-berlin.de/f/346c20d61a66475b967d/?dl=1')\n",
    "db_Output_valid = pd.read_csv('https://box.hu-berlin.de/f/5134827e468f4db4b638/?dl=1')\n",
    "db_Output_train = pd.read_csv('https://box.hu-berlin.de/f/648aefe676d9400bbb93/?dl=1')\n",
    "\n",
    "albert_Output_test = pd.read_csv('https://box.hu-berlin.de/f/1151ec60e8da4c8b894e/?dl=1')\n",
    "albert_Output_train = pd.read_csv('https://box.hu-berlin.de/f/c133696cffa141aa972c/?dl=1')\n",
    "albert_Output_valid = pd.read_csv('https://box.hu-berlin.de/f/82bfbd2d9a5e45ee8dd0/?dl=1')\n",
    "\n",
    "bert_Output_test = pd.read_csv('https://box.hu-berlin.de/f/356b141915644603bcd4/?dl=1')\n",
    "bert_Output_train = pd.read_csv('https://box.hu-berlin.de/f/420ecf8a7418416d81b8/?dl=1')\n",
    "bert_Output_valid = pd.read_csv('https://box.hu-berlin.de/f/cba79bc3edb14ce99dcc/?dl=1')\n",
    "\n",
    "rb_Output_test = pd.read_csv('https://box.hu-berlin.de/f/a9f42699be544ee5a334/?dl=1')\n",
    "rb_Output_train = pd.read_csv('https://box.hu-berlin.de/f/972b704fcf864dc5a92a/?dl=1')\n",
    "rb_Output_valid = pd.read_csv('https://box.hu-berlin.de/f/2640eef52bbc40cba892/?dl=1')\n",
    "\n",
    "LSTM_Output = pd.read_csv('https://box.hu-berlin.de/f/9736367891bc4a928af7/?dl=1')\n",
    "SVM_Output = pd.read_csv('https://box.hu-berlin.de/f/74a32ac1aa204fd0a5d5/?dl=1')"
   ]
  },
  {
   "cell_type": "code",
   "execution_count": null,
   "metadata": {
    "colab": {},
    "colab_type": "code",
    "id": "WXe1HhnsqPIb"
   },
   "outputs": [],
   "source": [
    "from sklearn import metrics\n",
    "fpr_db, tpr_db, thresholds = metrics.roc_curve(test_df['label'], db_Output_test['Prob_class_1'], pos_label=1)\n",
    "fpr_albert, tpr_albert, thresholds = metrics.roc_curve(test_df['label'], albert_Output_test['Prob_class_1'], pos_label=1)\n",
    "fpr_bert, tpr_bert, thresholds = metrics.roc_curve(test_df['label'], bert_Output_test['Prob_class_1'], pos_label=1)\n",
    "fpr_rob, tpr_rob, thresholds = metrics.roc_curve(test_df['label'], rb_Output_test['Prob_class_1'], pos_label=1)\n",
    "fpr_lstm, tpr_lstm, thresholds_lstm = sklearn.metrics.roc_curve(test_df['label'], LSTM_Output['Prob_class_1'])\n",
    "fpr_svm, tpr_svm, thresholds_svm = sklearn.metrics.roc_curve(test_df['label'], SVM_Output['Prob_class_1'])"
   ]
  },
  {
   "cell_type": "code",
   "execution_count": 14,
   "metadata": {
    "colab": {
     "base_uri": "https://localhost:8080/",
     "height": 893
    },
    "colab_type": "code",
    "id": "Xx7Euxmmqh8o",
    "outputId": "f93e5ab8-a214-4a9e-9453-b45758f7b8db"
   },
   "outputs": [
    {
     "data": {
      "image/png": "[encoded data removed]",
      "text/plain": [
       "<Figure size 1080x1080 with 1 Axes>"
      ]
     },
     "metadata": {
      "tags": []
     },
     "output_type": "display_data"
    }
   ],
   "source": [
    "import matplotlib.pyplot as plt\n",
    "\n",
    "plt.figure(figsize=(15,15))\n",
    "plt.plot(fpr_rob,tpr_rob,'b-', label='RoBERTa')\n",
    "plt.plot(fpr_bert,tpr_bert,'r-', label='BERT')\n",
    "plt.plot(fpr_albert,tpr_albert,'y-', label='AlBERT')\n",
    "plt.plot(fpr_db,tpr_db,'g-', label='DistilBERT')\n",
    "plt.plot(fpr_lstm, tpr_lstm,'m-', label='Bidirectional Neural Network')\n",
    "plt.plot(fpr_svm, tpr_svm,'c-', label='SVM')\n",
    "plt.legend()\n",
    "plt.xlabel('False Positive Rate')\n",
    "plt.ylabel('True Positive Rate')\n",
    "plt.title('ROC Plot for Test Set')\n",
    "plt.show()"
   ]
  }
 ],
 "metadata": {
  "accelerator": "GPU",
  "colab": {
   "collapsed_sections": [
    "AyDhcocE8w8b"
   ],
   "include_colab_link": true,
   "name": "Benchmarks_and_finalAUCPlot.ipynb",
   "provenance": [],
   "toc_visible": true
  },
  "kernelspec": {
   "display_name": "Python 3",
   "language": "python",
   "name": "python3"
  },
  "language_info": {
   "codemirror_mode": {
    "name": "ipython",
    "version": 3
   },
   "file_extension": ".py",
   "mimetype": "text/x-python",
   "name": "python",
   "nbconvert_exporter": "python",
   "pygments_lexer": "ipython3",
   "version": "3.7.3"
  }
 },
 "nbformat": 4,
 "nbformat_minor": 2
}
