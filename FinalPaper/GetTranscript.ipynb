{
 "cells": [
  {
   "cell_type": "markdown",
   "metadata": {},
   "source": [
    "# Obtain transcripts from seekalpha.com"
   ]
  },
  {
   "cell_type": "code",
   "execution_count": 14,
   "metadata": {
    "pycharm": {
     "is_executing": false
    }
   },
   "outputs": [],
   "source": [
    "from selenium import webdriver\n",
    "from webdriver_manager.chrome import ChromeDriverManager\n",
    "import re\n",
    "import os\n"
   ]
  },
  {
   "cell_type": "code",
   "execution_count": 15,
   "metadata": {
    "pycharm": {
     "is_executing": false
    }
   },
   "outputs": [],
   "source": [
    "sectors = ['basic-materials',\n",
    "          'conglomerates',\n",
    "          'consumer-goods',\n",
    "          'financial',\n",
    "          'healthcare',\n",
    "          'industrial-goods',\n",
    "          'services',\n",
    "          'technology',\n",
    "          'utilities']\n",
    "\n",
    "for sec in sectors:\n",
    "    if not os.path.exists('Transcripts/{}'.format(sec)):\n",
    "        os.mkdir('Transcripts/{}'.format(sec))"
   ]
  },
  {
   "cell_type": "code",
   "execution_count": 16,
   "metadata": {
    "pycharm": {
     "is_executing": false
    }
   },
   "outputs": [
    {
     "data": {
      "text/plain": [
       "False"
      ]
     },
     "execution_count": 16,
     "metadata": {},
     "output_type": "execute_result"
    }
   ],
   "source": [
    "sec =  'technology'\n",
    "os.path.exists('Transcript/{}'.format(sec))"
   ]
  },
  {
   "cell_type": "markdown",
   "metadata": {},
   "source": [
    "## Log in to seekalpha"
   ]
  },
  {
   "cell_type": "code",
   "execution_count": 17,
   "metadata": {
    "pycharm": {
     "is_executing": false
    }
   },
   "outputs": [
    {
     "name": "stderr",
     "output_type": "stream",
     "text": [
      "[WDM] - Looking for [chromedriver 84.0.4147.30 mac64] driver in cache \n",
      "[WDM] - File found in cache by path [/Users/zhou/.wdm/drivers/chromedriver/84.0.4147.30/mac64/chromedriver]\n"
     ]
    }
   ],
   "source": [
    "chrome_options = webdriver.ChromeOptions()\n",
    "chrome_options.add_experimental_option(\"useAutomationExtension\", False)\n",
    "chrome_options.add_experimental_option(\"excludeSwitches\",[\"enable-automation\"])\n",
    "driver = webdriver.Chrome(ChromeDriverManager().install(),options=chrome_options,)\n",
    "\n",
    "driver.get(\"https://seekingalpha.com/account/login\")\n",
    "email = driver.find_element_by_id(\"login_user_email\")\n",
    "email.send_keys(\"zhouxing@uchicago.edu\")\n",
    "password = driver.find_element_by_id(\"login_user_password\")\n",
    "password.send_keys(\"Xz19980114!\")\n",
    "#button = driver.find_element_by_xpath(\"//input[@value='Sign in']\")\n",
    "driver.find_element_by_xpath(\"//div[@class='register_button']/input[@value='Sign in']\").click()"
   ]
  },
  {
   "cell_type": "code",
   "execution_count": 18,
   "metadata": {
    "pycharm": {
     "is_executing": false
    }
   },
   "outputs": [],
   "source": [
    "# driver.get(\"https://seekingalpha.com/article/1594412-siemens-aktiengesellschaft-management-discusses-q3-2013-results-earnings-call-transcript\")\n",
    "# content = driver.find_element_by_id(\"a-body\")\n",
    "# heading = driver.find_element_by_tag_name('h1').text\n",
    "# html = str(content.get_attribute('innerHTML'))\n",
    "# reg = r'<p class=\"p p[1-9][0-9]{0,1}\">(.+?)<\\/p>'\n",
    "# url_lst = filter(lambda x: x[:8]!=\"<strong>\",re.findall(reg,html))\n",
    "# text = list(url_lst)\n",
    "# with open(\"./text/{}.txt\".format(heading),\"a+\") as f:\n",
    "#     for line in text:\n",
    "#         f.write(\"{}\\n\".format(line))\n",
    "# f.close()"
   ]
  },
  {
   "cell_type": "code",
   "execution_count": 19,
   "metadata": {
    "pycharm": {
     "is_executing": false
    }
   },
   "outputs": [],
   "source": [
    "# def get_stock_name_heading_time(url):\n",
    "#     driver.get(url)\n",
    "#     name = driver.find_element_by_xpath(\"//div[@class='snap-data']/ul[@class='table']/li\").text\n",
    "#     stock_name = str(name).split('\\n')[1]\n",
    "#     heading = driver.find_element_by_tag_name('h1').text\n",
    "#     time_slot = re.findall(r\"Q[0-9] 2[0-9]{3}\",heading)\n",
    "#     return stock_name,heading,time_slot"
   ]
  },
  {
   "cell_type": "code",
   "execution_count": 20,
   "metadata": {
    "pycharm": {
     "is_executing": false
    }
   },
   "outputs": [],
   "source": [
    "def find_time_name_from_title(text):\n",
    "    time_lst = re.findall(r\"Q[0-9] 2[0-9]{3}\",text)\n",
    "    name_lst = re.findall(r'\\((.+?)\\)',text)\n",
    "    return time_lst,name_lst"
   ]
  },
  {
   "cell_type": "code",
   "execution_count": 21,
   "metadata": {
    "pycharm": {
     "is_executing": false
    }
   },
   "outputs": [],
   "source": [
    "def write_urls(num_page_range,sector):\n",
    "    cnt = 0\n",
    "    filepath = \"Transcripts/{}/urls.txt\".format(sector)\n",
    "    if os.path.exists(filepath):\n",
    "        os.remove(filepath)\n",
    "    with open(filepath,\"a+\") as f:\n",
    "        for page in num_page_range:\n",
    "            driver.get(\"https://seekingalpha.com/earnings/earnings-call-transcripts/{}?sector={}\".format(page,sector))\n",
    "            content = driver.find_elements_by_xpath(\"//a[@sasource='earnings-center-transcripts_article']\")\n",
    "            for i in range(len(content)):\n",
    "                title = content[i].text\n",
    "                time_lst,name_lst = find_time_name_from_title(title)\n",
    "                if len(time_lst)!=1 or len(name_lst)!=1:\n",
    "                    continue\n",
    "                Time = time_lst[0].replace(\" \",\"\")\n",
    "                Name = name_lst[0]\n",
    "                url = content[i].get_attribute('href')\n",
    "                f.write(\"{};{};{}\\n\".format(Name,Time,url))\n",
    "                cnt+=1\n",
    "    f.close()\n",
    "    print(\"urls:\",cnt)\n",
    "                        "
   ]
  },
  {
   "cell_type": "code",
   "execution_count": 22,
   "metadata": {
    "pycharm": {
     "is_executing": false
    }
   },
   "outputs": [],
   "source": [
    "def write_transcipt(name,time,url,sector):\n",
    "    \n",
    "    dirpath = \"Transcripts/{}/Transcripts\".format(sector)\n",
    "    if not os.path.exists(dirpath):\n",
    "        os.mkdir(dirpath)\n",
    "        \n",
    "    filepath = \"Transcripts/{}/Transcripts/{}_{}.txt\".format(sector,name,time)\n",
    "    \n",
    "    if os.path.exists(filepath):\n",
    "        return \n",
    "    \n",
    "    driver.get(url)\n",
    "    content = driver.find_element_by_id(\"a-body\")\n",
    "    html = str(content.get_attribute('innerHTML'))\n",
    "    reg = r'<p class=\"p p[1-9][0-9]{0,1}\">(.+?)<\\/p>'\n",
    "    url_lst = filter(lambda x: x[:8]!=\"<strong>\",re.findall(reg,html))\n",
    "    text = list(url_lst)\n",
    "    \n",
    "    with open(filepath,\"a+\") as f:\n",
    "        for line in text:\n",
    "            f.write(\"{}\\n\".format(line))\n",
    "    f.close()\n",
    "    \n"
   ]
  },
  {
   "cell_type": "code",
   "execution_count": 29,
   "metadata": {
    "pycharm": {
     "is_executing": false
    }
   },
   "outputs": [
    {
     "name": "stdout",
     "output_type": "stream",
     "text": [
      "urls: 56\n"
     ]
    }
   ],
   "source": [
    "sec_pages = {\"healthcare\":42,\n",
    "            \"financial\":52,\n",
    "            \"consumer-goods\":24,\n",
    "             \"conglomerates\":2,\n",
    "             \"services\":48,\n",
    "             \"technology\":66,\n",
    "             \"utilities\":8,\n",
    "             'industrial-goods':26\n",
    "            }\n",
    "sector = input(\"sector:\")\n",
    "write_urls(range(sec_pages[sector]),sector)"
   ]
  },
  {
   "cell_type": "code",
   "execution_count": 30,
   "metadata": {
    "pycharm": {
     "is_executing": false
    }
   },
   "outputs": [
    {
     "name": "stdout",
     "output_type": "stream",
     "text": [
      "finished: 0\n",
      "finished: 20\n",
      "finished: 40\n"
     ]
    },
    {
     "ename": "ValueError",
     "evalue": "not enough values to unpack (expected 3, got 1)",
     "output_type": "error",
     "traceback": [
      "\u001b[0;31m---------------------------------------------------------------------------\u001b[0m",
      "\u001b[0;31mValueError\u001b[0m                                Traceback (most recent call last)",
      "\u001b[0;32m<ipython-input-30-0fd48300374e>\u001b[0m in \u001b[0;36m<module>\u001b[0;34m\u001b[0m\n\u001b[1;32m      4\u001b[0m     \u001b[0mres\u001b[0m \u001b[0;34m=\u001b[0m \u001b[0mf\u001b[0m\u001b[0;34m.\u001b[0m\u001b[0mread\u001b[0m\u001b[0;34m(\u001b[0m\u001b[0;34m)\u001b[0m\u001b[0;34m.\u001b[0m\u001b[0mdecode\u001b[0m\u001b[0;34m(\u001b[0m\u001b[0;34m'ascii'\u001b[0m\u001b[0;34m)\u001b[0m\u001b[0;34m.\u001b[0m\u001b[0msplit\u001b[0m\u001b[0;34m(\u001b[0m\u001b[0;34m'\\n'\u001b[0m\u001b[0;34m)\u001b[0m\u001b[0;34m\u001b[0m\u001b[0;34m\u001b[0m\u001b[0m\n\u001b[1;32m      5\u001b[0m     \u001b[0;32mfor\u001b[0m \u001b[0midx\u001b[0m\u001b[0;34m,\u001b[0m\u001b[0mi\u001b[0m \u001b[0;32min\u001b[0m \u001b[0menumerate\u001b[0m\u001b[0;34m(\u001b[0m\u001b[0mres\u001b[0m\u001b[0;34m)\u001b[0m\u001b[0;34m:\u001b[0m\u001b[0;34m\u001b[0m\u001b[0;34m\u001b[0m\u001b[0m\n\u001b[0;32m----> 6\u001b[0;31m         \u001b[0mname\u001b[0m\u001b[0;34m,\u001b[0m\u001b[0mtime\u001b[0m\u001b[0;34m,\u001b[0m\u001b[0murl\u001b[0m \u001b[0;34m=\u001b[0m \u001b[0mi\u001b[0m\u001b[0;34m.\u001b[0m\u001b[0msplit\u001b[0m\u001b[0;34m(\u001b[0m\u001b[0;34m';'\u001b[0m\u001b[0;34m)\u001b[0m\u001b[0;34m\u001b[0m\u001b[0;34m\u001b[0m\u001b[0m\n\u001b[0m\u001b[1;32m      7\u001b[0m         \u001b[0;32mtry\u001b[0m\u001b[0;34m:\u001b[0m\u001b[0;34m\u001b[0m\u001b[0;34m\u001b[0m\u001b[0m\n\u001b[1;32m      8\u001b[0m             \u001b[0mwrite_transcipt\u001b[0m\u001b[0;34m(\u001b[0m\u001b[0mname\u001b[0m\u001b[0;34m,\u001b[0m\u001b[0mtime\u001b[0m\u001b[0;34m,\u001b[0m\u001b[0murl\u001b[0m\u001b[0;34m,\u001b[0m\u001b[0msector\u001b[0m\u001b[0;34m)\u001b[0m\u001b[0;34m\u001b[0m\u001b[0;34m\u001b[0m\u001b[0m\n",
      "\u001b[0;31mValueError\u001b[0m: not enough values to unpack (expected 3, got 1)"
     ]
    }
   ],
   "source": [
    "filepath = \"Transcripts/{}/urls.txt\".format(sector)\n",
    "with open(filepath,'rb') as f:\n",
    "    res = f.read().decode('ascii').split('\\n')\n",
    "    for idx,i in enumerate(res):\n",
    "        name,time,url = i.split(';')\n",
    "        try:\n",
    "            write_transcipt(name,time,url,sector)\n",
    "            if idx%20==0:\n",
    "                print(\"finished:\",idx)\n",
    "        except:\n",
    "            print(\"error:\",idx)\n",
    "            "
   ]
  },
  {
   "cell_type": "code",
   "execution_count": null,
   "metadata": {
    "pycharm": {
     "is_executing": false
    }
   },
   "outputs": [],
   "source": []
  }
 ],
 "metadata": {
  "kernelspec": {
   "display_name": "PyCharm (Data)",
   "language": "python",
   "name": "pycharm-2d0f116"
  },
  "language_info": {
   "codemirror_mode": {
    "name": "ipython",
    "version": 3
   },
   "file_extension": ".py",
   "mimetype": "text/x-python",
   "name": "python",
   "nbconvert_exporter": "python",
   "pygments_lexer": "ipython3",
   "version": "3.7.3"
  },
  "pycharm": {
   "stem_cell": {
    "cell_type": "raw",
    "metadata": {
     "collapsed": false
    },
    "source": []
   }
  }
 },
 "nbformat": 4,
 "nbformat_minor": 2
}
