{
 "cells": [
  {
   "cell_type": "code",
   "execution_count": 1,
   "metadata": {},
   "outputs": [
    {
     "data": {
      "text/plain": [
       "'/Users/zhou/Desktop/Travail/TTIC 31230'"
      ]
     },
     "execution_count": 1,
     "metadata": {},
     "output_type": "execute_result"
    }
   ],
   "source": [
    "import urllib.request\n",
    "import re\n",
    "import os\n",
    "import zipfile\n",
    "import pandas as pd\n",
    "import requests\n",
    "import os\n",
    "os.getcwd()"
   ]
  },
  {
   "cell_type": "code",
   "execution_count": 2,
   "metadata": {},
   "outputs": [],
   "source": [
    "# open the url and read\n",
    "def getHtml(url):\n",
    "    page = urllib.request.urlopen(url)\n",
    "    html = page.read()\n",
    "    page.close()\n",
    "    #print(html)\n",
    "    return html\n",
    "# compile the regular expressions and find all stuff we need\n",
    "def getUrl(html,reg):\n",
    "    '''\n",
    "    return address of pdf\n",
    "    reg = r'href=\"(.*?.pdf)\">(.*?\\(PDF\\))'\n",
    "    '''\n",
    "    html = html.decode('utf-8')\n",
    "    url_lst = re.findall(reg,html)\n",
    "    #print(url_lst)\n",
    "    return url_lst"
   ]
  },
  {
   "cell_type": "code",
   "execution_count": 3,
   "metadata": {},
   "outputs": [
    {
     "name": "stdin",
     "output_type": "stream",
     "text": [
      "Type in the url: https://mcallester.github.io/ttic-31230/\n"
     ]
    },
    {
     "name": "stdout",
     "output_type": "stream",
     "text": [
      "['01intro/intro.html', '02MLP/Backprop.html', '03CNNs/CNNs.html', '04Highway/highway.html', '05RNNs/LangModel.html']\n"
     ]
    }
   ],
   "source": [
    "reg1 = 'href = (.+\\.html)'\n",
    "inp = input(\"Type in the url:\")\n",
    "html_lst = getUrl(getHtml(inp),reg1)\n",
    "print(html_lst[:5])\n",
    "#https://mcallester.github.io/ttic-31230/"
   ]
  },
  {
   "cell_type": "code",
   "execution_count": 4,
   "metadata": {},
   "outputs": [],
   "source": [
    "pdf_lst = []\n",
    "outer_lst = []\n",
    "for html in html_lst:\n",
    "    reg = 'href = (.+\\.pdf)'\n",
    "    html_full = inp + html\n",
    "    #print(html_full)\n",
    "    html_partial = '/'.join(html_full.split('/')[:-1])\n",
    "    #print(html_partial)\n",
    "    pdf_url_lst = getUrl(getHtml(html_full),reg)\n",
    "    for i in pdf_url_lst:\n",
    "        #print(\"**\",i[:4])\n",
    "        if i[:4] == \"http\":\n",
    "            outer_lst.append(i)\n",
    "        else:\n",
    "            pdf_lst.append(html_partial+'/'+i[0:])"
   ]
  },
  {
   "cell_type": "code",
   "execution_count": 5,
   "metadata": {},
   "outputs": [
    {
     "data": {
      "text/plain": [
       "['https://mcallester.github.io/ttic-31230/01intro/intro.pdf',\n",
       " 'https://mcallester.github.io/ttic-31230/01intro/problems.pdf',\n",
       " 'https://mcallester.github.io/ttic-31230/02MLP/MLP.pdf',\n",
       " 'https://mcallester.github.io/ttic-31230/02MLP/problems.pdf',\n",
       " 'https://mcallester.github.io/ttic-31230/03CNNs/CNNs.pdf',\n",
       " 'https://mcallester.github.io/ttic-31230/03CNNs/problems.pdf',\n",
       " 'https://mcallester.github.io/ttic-31230/04Highway/highway.pdf',\n",
       " 'https://mcallester.github.io/ttic-31230/04Highway/problems.pdf',\n",
       " 'https://mcallester.github.io/ttic-31230/05RNNs/RNN.pdf',\n",
       " 'https://mcallester.github.io/ttic-31230/05RNNs/problems.pdf',\n",
       " 'https://mcallester.github.io/ttic-31230/06SGD/SGD.pdf',\n",
       " 'https://mcallester.github.io/ttic-31230/06SGD/SGDproblems.pdf',\n",
       " 'https://mcallester.github.io/ttic-31230/06SGD/flow.pdf',\n",
       " 'https://mcallester.github.io/ttic-31230/06SGD/SGDproblems.pdf',\n",
       " 'https://mcallester.github.io/ttic-31230/06SGD/safe.pdf',\n",
       " 'https://mcallester.github.io/ttic-31230/07regularization/regularization.pdf',\n",
       " 'https://mcallester.github.io/ttic-31230/07regularization/REGproblems.pdf',\n",
       " 'https://mcallester.github.io/ttic-31230/09GraphicalModels/CTC.pdf',\n",
       " 'https://mcallester.github.io/ttic-31230/09GraphicalModels/CTCproblems.pdf',\n",
       " 'https://mcallester.github.io/ttic-31230/09GraphicalModels/DGMs.pdf',\n",
       " 'https://mcallester.github.io/ttic-31230/09GraphicalModels/DGMproblems.pdf',\n",
       " 'https://mcallester.github.io/ttic-31230/08InfoTheory/information.pdf',\n",
       " 'https://mcallester.github.io/ttic-31230/08InfoTheory/info2problems.pdf',\n",
       " 'https://mcallester.github.io/ttic-31230/14GANs/Gans.pdf',\n",
       " 'https://mcallester.github.io/ttic-31230/14GANs/GANproblems.pdf',\n",
       " 'https://mcallester.github.io/ttic-31230/11AutoEncoders/Rate.pdf',\n",
       " 'https://mcallester.github.io/ttic-31230/11AutoEncoders/Variational.pdf',\n",
       " 'https://mcallester.github.io/ttic-31230/11AutoEncoders/Rateproblems.pdf',\n",
       " 'https://mcallester.github.io/ttic-31230/pretraining/pretraining.pdf',\n",
       " 'https://mcallester.github.io/ttic-31230/pretraining/PREproblems.pdf',\n",
       " 'https://mcallester.github.io/ttic-31230/15RL/RL.pdf',\n",
       " 'https://mcallester.github.io/ttic-31230/15RL/RLproblems.pdf',\n",
       " 'https://mcallester.github.io/ttic-31230/16alpha/alphago.pdf',\n",
       " 'https://mcallester.github.io/ttic-31230/16alpha/alphaproblems.pdf',\n",
       " 'https://mcallester.github.io/ttic-31230/13SGD2/loose.pdf',\n",
       " 'https://mcallester.github.io/ttic-31230/17Interpretation/internp.pdf',\n",
       " 'https://mcallester.github.io/ttic-31230/18AGI/arch.pdf']"
      ]
     },
     "execution_count": 5,
     "metadata": {},
     "output_type": "execute_result"
    }
   ],
   "source": [
    "#https://mcallester.github.io/ttic-31230/15RL/RLproblems.pdf\n",
    "pdf_lst"
   ]
  },
  {
   "cell_type": "code",
   "execution_count": 6,
   "metadata": {},
   "outputs": [
    {
     "name": "stdin",
     "output_type": "stream",
     "text": [
      "please type the prefix of files: \n"
     ]
    }
   ],
   "source": [
    "namefunc = lambda x:x.split('/')[-1]\n",
    "code = lambda x:x.split('/')[-2][:2]\n",
    "local = input(\"please type the prefix of files:\")\n",
    "def downloadFile(url=None,front = None,name = None,local=local,mid=None):\n",
    "    local_filename = local+name\n",
    "    if front:\n",
    "        url = front+mid+url\n",
    "    print(url)\n",
    "    req = requests.get(url, stream=True)\n",
    "    #filename.write_bytes(response.content)\n",
    "    with open(local_filename, 'wb') as fl:\n",
    "        for chunk in req.iter_content(chunk_size=1024):\n",
    "            if chunk:\n",
    "                fl.write(chunk)     "
   ]
  },
  {
   "cell_type": "code",
   "execution_count": 7,
   "metadata": {},
   "outputs": [
    {
     "name": "stdout",
     "output_type": "stream",
     "text": [
      "https://mcallester.github.io/ttic-31230/01intro/intro.pdf\n",
      "https://mcallester.github.io/ttic-31230/01intro/problems.pdf\n",
      "https://mcallester.github.io/ttic-31230/02MLP/MLP.pdf\n",
      "https://mcallester.github.io/ttic-31230/02MLP/problems.pdf\n",
      "https://mcallester.github.io/ttic-31230/03CNNs/CNNs.pdf\n",
      "https://mcallester.github.io/ttic-31230/03CNNs/problems.pdf\n",
      "https://mcallester.github.io/ttic-31230/04Highway/highway.pdf\n",
      "https://mcallester.github.io/ttic-31230/04Highway/problems.pdf\n",
      "https://mcallester.github.io/ttic-31230/05RNNs/RNN.pdf\n",
      "https://mcallester.github.io/ttic-31230/05RNNs/problems.pdf\n",
      "https://mcallester.github.io/ttic-31230/06SGD/SGD.pdf\n",
      "https://mcallester.github.io/ttic-31230/06SGD/SGDproblems.pdf\n",
      "https://mcallester.github.io/ttic-31230/06SGD/flow.pdf\n",
      "https://mcallester.github.io/ttic-31230/06SGD/SGDproblems.pdf\n",
      "https://mcallester.github.io/ttic-31230/06SGD/safe.pdf\n",
      "https://mcallester.github.io/ttic-31230/07regularization/regularization.pdf\n",
      "https://mcallester.github.io/ttic-31230/07regularization/REGproblems.pdf\n",
      "https://mcallester.github.io/ttic-31230/09GraphicalModels/CTC.pdf\n",
      "https://mcallester.github.io/ttic-31230/09GraphicalModels/CTCproblems.pdf\n",
      "https://mcallester.github.io/ttic-31230/09GraphicalModels/DGMs.pdf\n",
      "https://mcallester.github.io/ttic-31230/09GraphicalModels/DGMproblems.pdf\n",
      "https://mcallester.github.io/ttic-31230/08InfoTheory/information.pdf\n",
      "https://mcallester.github.io/ttic-31230/08InfoTheory/info2problems.pdf\n",
      "https://mcallester.github.io/ttic-31230/14GANs/Gans.pdf\n",
      "https://mcallester.github.io/ttic-31230/14GANs/GANproblems.pdf\n",
      "https://mcallester.github.io/ttic-31230/11AutoEncoders/Rate.pdf\n",
      "https://mcallester.github.io/ttic-31230/11AutoEncoders/Variational.pdf\n",
      "https://mcallester.github.io/ttic-31230/11AutoEncoders/Rateproblems.pdf\n",
      "https://mcallester.github.io/ttic-31230/pretraining/pretraining.pdf\n",
      "https://mcallester.github.io/ttic-31230/pretraining/PREproblems.pdf\n",
      "https://mcallester.github.io/ttic-31230/15RL/RL.pdf\n",
      "https://mcallester.github.io/ttic-31230/15RL/RLproblems.pdf\n",
      "https://mcallester.github.io/ttic-31230/16alpha/alphago.pdf\n",
      "https://mcallester.github.io/ttic-31230/16alpha/alphaproblems.pdf\n",
      "https://mcallester.github.io/ttic-31230/13SGD2/loose.pdf\n",
      "https://mcallester.github.io/ttic-31230/17Interpretation/internp.pdf\n",
      "https://mcallester.github.io/ttic-31230/18AGI/arch.pdf\n"
     ]
    }
   ],
   "source": [
    "for url in pdf_lst:\n",
    "    downloadFile(url,name = code(url)+namefunc(url))"
   ]
  },
  {
   "cell_type": "code",
   "execution_count": 8,
   "metadata": {},
   "outputs": [
    {
     "name": "stdout",
     "output_type": "stream",
     "text": [
      "http://cs231n.stanford.edu/slides/2017/cs231n_2017_lecture5.pdf\n",
      "http://cs231n.stanford.edu/slides/2017/cs231n_2017_lecture9.pdf\n",
      "https://arxiv.org/pdf/1612.03144.pdf\n",
      "http://cs231n.stanford.edu/slides/2017/cs231n_2017_lecture10.pdf\n",
      "https://www.cs.toronto.edu/~graves/icml_2006.pdf\n",
      "http://proceedings.mlr.press/v9/gutmann10a/gutmann10a.pdf\n",
      "https://d4mucfpksywv.cloudfront.net/better-language-models/language_models_are_unsupervised_multitask_learners.pdf\n",
      "https://icml.cc/2016/tutorials/deep_rl_tutorial.pdf\n",
      "https://web.stanford.edu/class/psych209/Readings/MnihEtAlHassibis15NatureControlDeepRL.pdf\n",
      "https://papers.nips.cc/paper/1713-policy-gradient-methods-for-reinforcement-learning-with-function-approximation.pdf\n",
      "http://www.jmlr.org/papers/volume9/vandermaaten08a/vandermaaten08a.pdf\n",
      "https://cs.nyu.edu/~fergus/papers/zeilerECCV2014.pdf\n",
      "https://www.aclweb.org/anthology/D14-1082.pdf\n"
     ]
    }
   ],
   "source": [
    "for url in outer_lst:\n",
    "    downloadFile(url,name=namefunc(url))"
   ]
  },
  {
   "cell_type": "code",
   "execution_count": null,
   "metadata": {},
   "outputs": [],
   "source": []
  }
 ],
 "metadata": {
  "kernelspec": {
   "display_name": "Python 3",
   "language": "python",
   "name": "python3"
  },
  "language_info": {
   "codemirror_mode": {
    "name": "ipython",
    "version": 3
   },
   "file_extension": ".py",
   "mimetype": "text/x-python",
   "name": "python",
   "nbconvert_exporter": "python",
   "pygments_lexer": "ipython3",
   "version": "3.7.3"
  }
 },
 "nbformat": 4,
 "nbformat_minor": 4
}
