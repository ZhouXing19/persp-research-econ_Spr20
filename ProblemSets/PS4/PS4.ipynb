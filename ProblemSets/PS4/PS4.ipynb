{
 "cells": [
  {
   "cell_type": "markdown",
   "metadata": {},
   "source": [
    "# PS 4"
   ]
  },
  {
   "cell_type": "markdown",
   "metadata": {},
   "source": [
    "## Ex 2.1"
   ]
  },
  {
   "cell_type": "code",
   "execution_count": 99,
   "metadata": {},
   "outputs": [],
   "source": [
    "import time\n",
    "import pandas as pd\n",
    "import numpy as np\n",
    "import matplotlib.pyplot as plt\n",
    "import scipy.optimize as optimizer\n",
    "import scipy.linalg as la\n"
   ]
  },
  {
   "cell_type": "markdown",
   "metadata": {},
   "source": [
    "#### Set Parameters"
   ]
  },
  {
   "cell_type": "code",
   "execution_count": 100,
   "metadata": {},
   "outputs": [],
   "source": [
    "A = 1 # productivity \n",
    "alpha = 0.35 # capital / income \n",
    "beta = 0.96 ** 20 #20-year discount rate\n",
    "delta = 1 - (1 - 0.05) ** 20 #20-year depreciation rate\n",
    "sigma = 3 #risk aversion coefficient\n",
    "lb = np.array([1, 1, 0.2]) #labor supplies\n",
    "SS_tol = 1e-09 #error tolerance\n",
    "f_params = (lb, A, alpha, delta) "
   ]
  },
  {
   "cell_type": "markdown",
   "metadata": {},
   "source": [
    "#### Define functions"
   ]
  },
  {
   "cell_type": "code",
   "execution_count": 101,
   "metadata": {},
   "outputs": [],
   "source": [
    "get_r = lambda alpha, A, L, K, delta: alpha * A * ((L / K) ** (1 - alpha)) - delta\n",
    "get_w = lambda alpha, A, L, K: (1 - alpha) * A * ((K / L) ** alpha)\n",
    "get_K = lambda b2, b3: b2+b3\n",
    "get_cons = lambda b_s, b_s_1, n_s, r, w: w * n_s + (1 + r) * b_s - b_s_1\n",
    "get_util = lambda c, sigma=3: (c ** (1 - sigma))/(1 - sigma)\n",
    "get_MU = lambda c, sigma=3: c ** (-sigma)\n",
    "get_Y = lambda alpha, A, L, K,: A * (K ** alpha) * (L ** (1-alpha))"
   ]
  },
  {
   "cell_type": "code",
   "execution_count": 102,
   "metadata": {},
   "outputs": [],
   "source": [
    "def feasible(f_params, bvec_guess):\n",
    "    lb, A, alpha, delta = f_params\n",
    "    b2, b3 = bvec_guess\n",
    "    K = get_K(b2, b3)\n",
    "    L = np.sum(lb)\n",
    "    r = get_r(alpha, A, L, K, delta)\n",
    "    w = get_w(alpha, A, L, K)\n",
    "    \n",
    "    c1 = get_cons(0, b2, lb[0], r, w)\n",
    "    c2 = get_cons(b2, b3, lb[1], r, w)\n",
    "    c3 = get_cons(b3, 0, lb[2], r, w)\n",
    "    \n",
    "    b_cnstr = np.zeros(2, dtype=\"bool\")\n",
    "    \n",
    "    c_cnstr = np.zeros(3, dtype=\"bool\")\n",
    "    c_cnstr[0], c_cnstr[1], c_cnstr[2] = (c1 <= 0), (c2 <= 0), (c3 <= 0)\n",
    "    \n",
    "    K_cnstr = np.zeros(1, dtype=\"bool\")\n",
    "    K_cnstr[0] = K <= 0\n",
    "    \n",
    "    \n",
    "    if c_cnstr[0]:\n",
    "        b_cnstr[0] = True\n",
    "    if c_cnstr[1]:\n",
    "        b_cnstr[0],b_cnstr[1] = True, True\n",
    "    if c_cnstr[1]:\n",
    "        b_cnstr[1] = True\n",
    "    \n",
    "    return b_cnstr, c_cnstr, K_cnstr"
   ]
  },
  {
   "cell_type": "markdown",
   "metadata": {},
   "source": [
    "### Ex 2.1(a)"
   ]
  },
  {
   "cell_type": "code",
   "execution_count": 103,
   "metadata": {},
   "outputs": [
    {
     "name": "stdout",
     "output_type": "stream",
     "text": [
      "b_cnstr: [ True False] , c_cnstr: [ True False False] , K_cnstr:[False] \n",
      "Constraints violated.\n"
     ]
    }
   ],
   "source": [
    "res = feasible(f_params, np.array([1.0, 1.2]))\n",
    "print(\"b_cnstr: {} , c_cnstr: {} , K_cnstr:{} \".format(res[0],res[1],res[2]))\n",
    "print(\"Constraints violated.\")"
   ]
  },
  {
   "cell_type": "markdown",
   "metadata": {},
   "source": [
    "### Ex 2.1(b)"
   ]
  },
  {
   "cell_type": "code",
   "execution_count": 104,
   "metadata": {},
   "outputs": [
    {
     "name": "stdout",
     "output_type": "stream",
     "text": [
      "b_cnstr: [False False] , c_cnstr: [False False False] , K_cnstr:[False] \n",
      "No Constraints violated.\n"
     ]
    }
   ],
   "source": [
    "res = feasible(f_params, np.array([0.06, -0.001]))\n",
    "print(\"b_cnstr: {} , c_cnstr: {} , K_cnstr:{} \".format(res[0],res[1],res[2]))\n",
    "print(\"No Constraints violated.\")"
   ]
  },
  {
   "cell_type": "markdown",
   "metadata": {},
   "source": [
    "### Ex 2.1(c)"
   ]
  },
  {
   "cell_type": "code",
   "execution_count": 105,
   "metadata": {},
   "outputs": [
    {
     "name": "stdout",
     "output_type": "stream",
     "text": [
      "b_cnstr: [False False] , c_cnstr: [False False False] , K_cnstr:[False] \n",
      "No Constraints violated.\n"
     ]
    }
   ],
   "source": [
    "res = feasible(f_params, np.array([0.1, 0.1]))\n",
    "print(\"b_cnstr: {} , c_cnstr: {} , K_cnstr:{} \".format(res[0],res[1],res[2]))\n",
    "print(\"No Constraints violated.\")"
   ]
  },
  {
   "cell_type": "markdown",
   "metadata": {},
   "source": [
    "## Ex 2.2"
   ]
  },
  {
   "cell_type": "code",
   "execution_count": 106,
   "metadata": {},
   "outputs": [],
   "source": [
    "# For Euler Errors\n",
    "def EulEqs(bvec, f_params):\n",
    "    lb, A, alpha, delta, beta = f_params\n",
    "    b2, b3 = bvec\n",
    "    \n",
    "    K = get_K(b2, b3)\n",
    "    L = lb.sum()\n",
    "    r = get_r(alpha, A, L, K, delta)\n",
    "    w = get_w(alpha, A, L, K)\n",
    "    \n",
    "    c1 = get_cons(0, b2, lb[0], r, w)\n",
    "    c2 = get_cons(b2, b3, lb[1], r, w)\n",
    "    c3 = get_cons(b3, 0, lb[2], r, w)\n",
    "    \n",
    "    MU1,MU2,MU3 = get_MU(c1),get_MU(c2),get_MU(c3)\n",
    "    \n",
    "    Eul1 = beta * (1 + r) * MU2 - MU1\n",
    "    Eul2 = beta * (1 + r) * MU3 - MU2\n",
    "    \n",
    "    return np.array([Eul1, Eul2])"
   ]
  },
  {
   "cell_type": "code",
   "execution_count": 107,
   "metadata": {},
   "outputs": [],
   "source": [
    "# Define the `get_SS` function\n",
    "def get_SS(params, bvec_guess, SS_graphs=False):\n",
    "    start_time = time.perf_counter()\n",
    "    beta, sigma, lb, L, A, alpha, delta, SS_tol = params\n",
    "    f_params = np.array([lb, A, alpha, delta, beta])\n",
    "    b_ss = optimizer.root(EulEqs, bvec_guess, tol=SS_tol, args=(f_params)).x\n",
    "    \n",
    "    b2, b3 = b_ss\n",
    "    K_ss = get_K(b2, b3)\n",
    "    r_ss = get_r(alpha, A, L, K_ss, delta)\n",
    "    w_ss = get_w(alpha, A, L, K_ss)\n",
    "    Y_ss = get_Y(alpha, A, L, K_ss)\n",
    "    \n",
    "    c1 = get_cons(0, b2, lb[0], r_ss, w_ss)\n",
    "    c2 = get_cons(b2, b3, lb[1], r_ss, w_ss)\n",
    "    c3 = get_cons(b3, 0, lb[2], r_ss, w_ss)\n",
    "    c_ss = np.array([c1, c2, c3])\n",
    "    C_ss = c_ss.sum()\n",
    "    EulErr_ss = EulEqs(b_ss, f_params)\n",
    "    RCerr_ss = Y_ss - C_ss - delta * K_ss\n",
    "    \n",
    "    ss_time = time.perf_counter() - start_time\n",
    "    ss_output = {\n",
    "        \"b_ss\": b_ss, \"c_ss\": c_ss, \"w_ss\": w_ss, \"r_ss\": r_ss, \n",
    "        \"K_ss\": K_ss, \"Y_ss\": Y_ss, \"C_ss\": C_ss,\n",
    "        \"EulErr_ss\": EulErr_ss, \"RCerr_ss\": RCerr_ss,\n",
    "        \"ss_time\": ss_time\n",
    "        \n",
    "    }\n",
    "    \n",
    "    if SS_graphs:\n",
    "        fig, ax = plt.subplots()\n",
    "        ax.plot(np.arange(1, 4), c_ss, marker=\"o\", label=\"consumption\")\n",
    "        ax.plot(np.arange(2, 4), b_ss, marker=\"o\", label=\"savings\")\n",
    "        ax.legend()\n",
    "        ax.set_title(\"Steady-state Distribution of Consumption and Savings in Equilibrium by ages\")\n",
    "        plt.show();\n",
    "        \n",
    "    return ss_output"
   ]
  },
  {
   "cell_type": "markdown",
   "metadata": {},
   "source": [
    "### Ex 2.2(a),(b)"
   ]
  },
  {
   "cell_type": "code",
   "execution_count": 108,
   "metadata": {},
   "outputs": [
    {
     "data": {
      "image/png": "[encoded data removed]",
      "text/plain": [
       "<Figure size 432x288 with 1 Axes>"
      ]
     },
     "metadata": {
      "needs_background": "light"
     },
     "output_type": "display_data"
    },
    {
     "name": "stdout",
     "output_type": "stream",
     "text": [
      "{'b_ss': array([0.01931274, 0.05841159]), 'c_ss': array([0.18241256, 0.20961491, 0.24087382]), 'w_ss': 0.2017252935955733, 'r_ss': 2.4330302535646116, 'K_ss': 0.07772432611811347, 'Y_ss': 0.6827625321696328, 'C_ss': 0.6329012827935535, 'EulErr_ss': array([ 1.33582034e-12, -2.67164069e-12]), 'RCerr_ss': 3.469446951953614e-17, 'ss_time': 0.0005025489999752608}\n"
     ]
    }
   ],
   "source": [
    "params = (beta, sigma, lb, lb.sum(), A, alpha, delta, SS_tol)\n",
    "bvec_guess = np.array([0.1, 0.1])\n",
    "ss_output = get_SS(params, bvec_guess,True)\n",
    "print(ss_output)"
   ]
  },
  {
   "cell_type": "markdown",
   "metadata": {},
   "source": [
    "### Ex 2.2(c)"
   ]
  },
  {
   "cell_type": "code",
   "execution_count": 109,
   "metadata": {},
   "outputs": [
    {
     "data": {
      "image/png": "[encoded data removed]",
      "text/plain": [
       "<Figure size 432x288 with 1 Axes>"
      ]
     },
     "metadata": {
      "needs_background": "light"
     },
     "output_type": "display_data"
    },
    {
     "name": "stdout",
     "output_type": "stream",
     "text": [
      "{'b_ss': array([0.02817696, 0.07686557]), 'c_ss': array([0.19597535, 0.22861559, 0.26669216]), 'w_ss': 0.22415231191003315, 'r_ss': 1.8863599991452351, 'K_ss': 0.10504252550764615, 'Y_ss': 0.7586693633878046, 'C_ss': 0.6912831045288896, 'EulErr_ss': array([2.84217094e-14, 2.84217094e-14]), 'RCerr_ss': 9.71445146547012e-17, 'ss_time': 0.0003131040002699592}\n"
     ]
    }
   ],
   "source": [
    "params = (0.55, sigma, lb, lb.sum(), A, alpha, delta, SS_tol)\n",
    "bvec_guess = np.array([0.1, 0.1])\n",
    "ss_output = get_SS(params, bvec_guess,True)\n",
    "print(ss_output)"
   ]
  },
  {
   "cell_type": "markdown",
   "metadata": {},
   "source": [
    "If househols become more patient, the consumption and saving over the period and $\\bar{w}$ increases while $\\bar{r}$ decreases. \n",
    "The reason may be that households tend to postpone their consumtions and save more at present. And the resulted higher demand and lower interest rate from more capital savings brings increase in wages.\n"
   ]
  },
  {
   "cell_type": "markdown",
   "metadata": {},
   "source": [
    "## Ex 2.3"
   ]
  },
  {
   "cell_type": "code",
   "execution_count": 111,
   "metadata": {},
   "outputs": [],
   "source": [
    "def get_b3(b1, b2, r_path, w_path, params, bvec_guess):\n",
    "    b3_params = [b1, b2, r_path, w_path, params]\n",
    "    result = optimizer.root(EulEqs_1, bvec_guess[0], args=b3_params, tol=params[7])\n",
    "    b3 = result.x\n",
    "    b3_EulErrs = result.fun\n",
    "    \n",
    "    return np.array([b3, b3_EulErrs])"
   ]
  },
  {
   "cell_type": "code",
   "execution_count": 112,
   "metadata": {},
   "outputs": [],
   "source": [
    "def get_path(T, K_path, K_bar, params):\n",
    "    beta, sigma, lb, L, A, alpha, delta, eul_tol = params\n",
    "    r_path = np.zeros(T)\n",
    "    w_path = np.zeros(T)\n",
    "    for t in range(T):\n",
    "        r_path[t] = get_r(alpha, A, L, K_path[t], delta)\n",
    "        w_path[t] = get_w(alpha, A, L, K_path[t])\n",
    "    \n",
    "    r_bar = get_r(alpha, A, L, K_bar, delta)\n",
    "    w_bar = get_w(alpha, A, L, K_bar)\n",
    "    r_path = np.append(r_path, r_bar)\n",
    "    w_path = np.append(w_path, w_bar)\n",
    "    \n",
    "    return np.array([r_path, w_path])"
   ]
  },
  {
   "cell_type": "code",
   "execution_count": 113,
   "metadata": {},
   "outputs": [],
   "source": [
    "def get_b_EulErr(b, b_params):\n",
    "    t, r_path, w_path, params = b_params\n",
    "    b1, b2 = b[0], b[1]\n",
    "    lb0, lb1,lb2 = params[2][0], params[2][1],params[2][2]\n",
    "    r_t_1,r_t_2 = r_path[t + 1],r_path[t + 2]\n",
    "    w_t, w_t_1, w_t_2  = w_path[t],w_path[t + 1],w_path[t+2]\n",
    "    \n",
    "    c21 = get_cons(0, b1, lb0, 0, w_t)\n",
    "    c22 = get_cons(b1, b2, lb1, r_t_1,w_t_1)\n",
    "    MU21 = get_MU(c21)\n",
    "    MU22 = get_MU(c22)\n",
    "    Eul2 = params[0] * (1 + r_path[t + 1]) * MU22 - MU21\n",
    "    \n",
    "    c31 = get_cons(b1, b2, lb1, r_t_1, w_t_1)\n",
    "    c32 = get_cons(b2, 0, lb2, r_t_2, w_t_2)\n",
    "    MU31 = get_MU(c31)\n",
    "    MU32 = get_MU(c32)\n",
    "    Eul3 = params[0] * (1 + r_path[t + 2]) * MU32 - MU31\n",
    "    \n",
    "    return np.array([Eul2, Eul3])\n",
    "\n",
    "def get_b(t, r_path, w_path, params, bvec_guess):\n",
    "    b_params = [t, r_path, w_path, params]\n",
    "    result = optimizer.root(get_b_EulErr, bvec_guess, args=b_params, tol=params[7])\n",
    "    b = result.x\n",
    "    b_EulErrs = result.fun\n",
    "    \n",
    "    return np.array([b, b_EulErrs])"
   ]
  },
  {
   "cell_type": "code",
   "execution_count": 114,
   "metadata": {},
   "outputs": [],
   "source": [
    "def get_errors(K_path, r_path, w_path, bmat, params):\n",
    "    L = params[2].sum()\n",
    "    C = L * w_path[:-1] + (1 + r_path[:-1]) * bmat[:-1, 0] - bmat[1:, 0] + (1 + r_path[:-1]) * bmat[:-1, 1] - bmat[1:, 1]\n",
    "    Y = params[4] * (K_path[:-1] ** params[5]) * (L ** (1 - params[5]))\n",
    "    agg_err = Y - C - K_path[1:] + (1 - params[6]) * K_path[:-1]"
   ]
  },
  {
   "cell_type": "code",
   "execution_count": 115,
   "metadata": {},
   "outputs": [],
   "source": [
    "def get_result(T, r_path, w_path, K_path, bvec_guess, b_ss, params):\n",
    "    bmat = np.zeros((T + 1, 2))\n",
    "    bmat[0, :] = bvec_guess\n",
    "    EulErrs = np.zeros((T + 1, 2))\n",
    "    cols = [0, 1]\n",
    "    \n",
    "    for t in range(T - 1):\n",
    "        rows = [t + 1, t + 2]\n",
    "        bmat[rows, cols], EulErrs[rows, cols] = get_b(t, r_path, w_path, params, bvec_guess)\n",
    "    \n",
    "    bmat[1, 1], EulErrs[1, 1] = get_b3(bmat[0, 0], bmat[0, 1], r_path, w_path, params, bvec_guess)\n",
    "    max_EulErrs = np.abs(EulErrs).max(axis=0)\n",
    "    agg_errs = get_errors(K_path, r_path, w_path, bmat, params)\n",
    "    \n",
    "    return bmat, max_EulErrs, agg_errs"
   ]
  },
  {
   "cell_type": "code",
   "execution_count": 116,
   "metadata": {},
   "outputs": [],
   "source": [
    "def K_prime(bmat, K_bar):\n",
    "    K_p_path = bmat[:-1, :].sum(axis=1)\n",
    "    K_p_path = np.append(K_p_path, K_bar)\n",
    "    \n",
    "    return K_p_path"
   ]
  },
  {
   "cell_type": "code",
   "execution_count": 117,
   "metadata": {},
   "outputs": [],
   "source": [
    "def TPI(T, K_path, K_bar, bvec_guess, b_ss, params, tol, max_iter):\n",
    "    dist = 1e9\n",
    "    i = 0\n",
    "    while (dist > tol) & (i < max_iter):\n",
    "        i += 1\n",
    "        r_path, w_path = get_path(T, K_path, K_bar, params)\n",
    "        bmat, max_EulErrs, max_agg_errs = get_result(T, r_path, w_path, K_path, bvec_guess, b_ss, params)\n",
    "        K_p_path = K_prime(bmat, K_bar)\n",
    "        dist = la.norm(K_p_path - K_path, 2)\n",
    "        K_path = xi * K_p_path + (1 - xi) * K_path\n",
    "        \n",
    "    print(\"Max absolute Euler errors are {}.\".format((max_EulErrs)))\n",
    "    print(\"Max absolute aggregate resources constraint error is {}.\".format(max_agg_errs))\n",
    "    \n",
    "    return K_path, r_path, w_path"
   ]
  },
  {
   "cell_type": "code",
   "execution_count": 118,
   "metadata": {},
   "outputs": [],
   "source": [
    "L = lb.sum()\n",
    "T = 30\n",
    "tol = 1e-09\n",
    "xi = 0.2\n",
    "eul_tol = 1e-06\n",
    "max_iter = 10000\n",
    "params = (beta, sigma, lb, L, A, alpha, delta, eul_tol)"
   ]
  },
  {
   "cell_type": "code",
   "execution_count": 119,
   "metadata": {},
   "outputs": [],
   "source": [
    "b_ss = get_SS(params, bvec_guess)[\"b_ss\"]\n",
    "b2_bar, b3_bar = b_ss\n",
    "\n",
    "b21 = 0.8 * b2_bar\n",
    "b31 = 1.1 * b3_bar\n",
    "bvec_guess = np.array([b21, b31])\n",
    "\n",
    "K1 = get_K(b21, b31)\n",
    "K_bar = get_K(b2_bar, b3_bar)\n",
    "K_path = np.linspace(K1, K_bar, T)\n",
    "K_path = np.append(K_path, K_bar)"
   ]
  },
  {
   "cell_type": "code",
   "execution_count": 120,
   "metadata": {},
   "outputs": [
    {
     "name": "stdout",
     "output_type": "stream",
     "text": [
      "Max absolute Euler errors are [1.04482800e-06 2.88958191e-07].\n",
      "Max absolute aggregate resources constraint error is None.\n"
     ]
    }
   ],
   "source": [
    "#(a)\n",
    "K, r, w = TPI(T, K_path, K_bar, bvec_guess, b_ss, params, tol, max_iter)"
   ]
  },
  {
   "cell_type": "code",
   "execution_count": 126,
   "metadata": {},
   "outputs": [
    {
     "data": {
      "image/png": "[encoded data removed]",
      "text/plain": [
       "<Figure size 864x288 with 3 Axes>"
      ]
     },
     "metadata": {
      "needs_background": "light"
     },
     "output_type": "display_data"
    }
   ],
   "source": [
    "fig, ax = plt.subplots(figsize=(12, 4), ncols=3)\n",
    "titles = ['Capital', 'Wage', 'Interest rate']\n",
    "path = [K,r,w]\n",
    "for i,p in enumerate(path):\n",
    "    ax[i].plot(p)\n",
    "    ax[i].set_title(\"{} Path\".format(titles[i]))"
   ]
  },
  {
   "cell_type": "markdown",
   "metadata": {},
   "source": [
    "### Ex 2.2(c)"
   ]
  },
  {
   "cell_type": "code",
   "execution_count": 128,
   "metadata": {},
   "outputs": [
    {
     "name": "stdout",
     "output_type": "stream",
     "text": [
      "States to first time close to aggregate capital of stock capital is 11.\n",
      "\n",
      "States to finally time coverge on aggregate capital of stock capital is 12.\n"
     ]
    }
   ],
   "source": [
    "K_dist = np.abs(K - K_bar)\n",
    "err = 1e-05\n",
    "loc1 = np.where(K_dist < err)[0]\n",
    "print(\"States to first time close to aggregate capital of stock capital is {}.\".format(loc1.min()))\n",
    "loc2 = loc1[-len(np.ediff1d(loc1) == 1)]\n",
    "print(\"\\nStates to finally time coverge on aggregate capital of stock capital is {}.\".format(loc2))"
   ]
  },
  {
   "cell_type": "code",
   "execution_count": null,
   "metadata": {},
   "outputs": [],
   "source": []
  }
 ],
 "metadata": {
  "kernelspec": {
   "display_name": "Python 3",
   "language": "python",
   "name": "python3"
  },
  "language_info": {
   "codemirror_mode": {
    "name": "ipython",
    "version": 3
   },
   "file_extension": ".py",
   "mimetype": "text/x-python",
   "name": "python",
   "nbconvert_exporter": "python",
   "pygments_lexer": "ipython3",
   "version": "3.7.3"
  }
 },
 "nbformat": 4,
 "nbformat_minor": 2
}
